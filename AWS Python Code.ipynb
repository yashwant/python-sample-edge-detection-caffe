{
 "cells": [
  {
   "cell_type": "code",
   "execution_count": null,
   "metadata": {},
   "outputs": [],
   "source": [
    "import numpy as np\n",
    "import scipy.misc\n",
    "from PIL import Image\n",
    "import scipy.io\n",
    "import os\n",
    "import cv2\n",
    "\n",
    "# Make sure that caffe is on the python path:\n",
    "caffe_root = '../../'  # this file is expected to be in {caffe_root}/examples/rcf/\n",
    "import sys\n",
    "sys.path.insert(0, caffe_root + 'python')\n",
    "import caffe\n"
   ]
  },
  {
   "cell_type": "code",
   "execution_count": null,
   "metadata": {
    "scrolled": true
   },
   "outputs": [],
   "source": [
    "im = Image.open('input_image_root/filename.png)\n",
    "in_ = np.array(im, dtype=np.float32)\n",
    "in_ = in_[:,:,::-1]\n",
    "in_ -= np.array((104.00698793,116.66876762,122.67891434))\n",
    "\n",
    "# load net\n",
    "net = caffe.Net('test.prototxt', 'rcf_pretrained_bsds.caffemodel', caffe.TEST)\n",
    "\n",
    "\n",
    "sz1 = np.floor(in_.shape[0]/4)\n",
    "sz2 = np.floor(in_.shape[1]/4)\n",
    "E = np.zeros((in_.shape[0], in_.shape[1]))\n",
    "\n",
    "C = 10\n",
    "for wini in range(0,8):\n",
    "    for winj in range(0,8):\n",
    "        i = wini/2; j = winj/2;\n",
    "        print winj\n",
    "        if (i+1)*sz1 > in_.shape[0]:\n",
    "            winsizeimax = in_.shape[0]\n",
    "        else :\n",
    "            winsizeimax = (i+1)*sz1\n",
    "        if (j+1)*sz2 > in_.shape[1]:\n",
    "            winsizejmax = in_.shape[1]\n",
    "        else :\n",
    "            winsizejmax = (j+1)*sz2\n",
    "\n",
    "        wiL = int(i*sz1)\n",
    "        wiU = int(winsizeimax)\n",
    "        wjL = int(j*sz2)\n",
    "        wjU = int(winsizejmax)\n",
    "        wi5L = int(max(0,i*sz1-C))\n",
    "        wi5U = int(min(winsizeimax+C, in_.shape[0]))\n",
    "        wj5L = int(max(0,j*sz2-C))\n",
    "        wj5U = int(min(winsizejmax+C, in_.shape[1]))\n",
    "\n",
    "        im1_ = (in_[wi5L:wi5U, wj5L:wj5U,:])\n",
    "        im_ = im1_.transpose((2, 0, 1))\n",
    "        net.blobs['data'].reshape(1, *im_.shape)\n",
    "        net.blobs['data'].data[...] = im_\n",
    "        # run net and take argmax for prediction\n",
    "        net.forward()\n",
    "        fuse = net.blobs['sigmoid-fuse'].data[0][0, :, :]\n",
    "\n",
    "        EiL = wiL - wi5L;\n",
    "        EjL = wjL - wj5L;\n",
    "        EiU = EiL + wiU - wiL\n",
    "        EjU = EjL + wjU - wjL\n",
    "\n",
    "        E[wiL:wiU, wjL:wjU] = E[wiL:wiU, wjL:wjU]  + fuse[EiL:EiU,EjL:EjU]\n",
    "\n",
    "# cv2.imwrite('output_root/filename.png', E/4)"
   ]
  },
  {
   "cell_type": "code",
   "execution_count": null,
   "metadata": {},
   "outputs": [],
   "source": [
    "# check the output\n",
    "import matplotlib.pyplot as plt\n",
    "%matplotlib inline\n",
    "plt.imshow(E/4, cmap='gray')"
   ]
  }
 ],
 "metadata": {
  "kernelspec": {
   "display_name": "Python 2",
   "language": "python",
   "name": "python2"
  },
  "language_info": {
   "codemirror_mode": {
    "name": "ipython",
    "version": 2
   },
   "file_extension": ".py",
   "mimetype": "text/x-python",
   "name": "python",
   "nbconvert_exporter": "python",
   "pygments_lexer": "ipython2",
   "version": "2.7.14"
  }
 },
 "nbformat": 4,
 "nbformat_minor": 2
}
